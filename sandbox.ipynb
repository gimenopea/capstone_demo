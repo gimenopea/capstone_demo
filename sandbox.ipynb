{
 "cells": [
  {
   "cell_type": "code",
   "execution_count": null,
   "metadata": {},
   "outputs": [],
   "source": [
    "from activity import DonationGenerator, FictionalDatasetMetadata, ModelTrainingMetadata, ProspectInteractionGenerator\n",
    "from skynet import DonorEngagement \n",
    "import random"
   ]
  },
  {
   "cell_type": "code",
   "execution_count": null,
   "metadata": {},
   "outputs": [],
   "source": [
    "purposes = {\"Student Scholarships Fund\": \"Financial aid for outstanding or needy students.\",\n",
    "\"Faculty Research Grant\" : \"Funding for faculty research projects.\",\n",
    "\"Campus Sustainability Initiative:\": \"Support for environmental sustainability on campus.\",\n",
    "\"Diversity and Inclusion Program\": \"Programs for promoting diversity and inclusion.\",\n",
    "\"Infrastructure Upgrade Fund\": \"Funding for campus facilities and infrastructure maintenance and upgrades.\"}\n",
    "\n",
    "trail = dict()\n",
    "\n",
    "\n",
    "#create 1 donation event\n",
    "donation_generator = DonationGenerator(purposes)\n",
    "donation_event = [donation_generator.generate_donation_event() for _ in range(1)]\n",
    "donation_event = donation_event[0]\n",
    "\n",
    "prospect_interaction = ProspectInteractionGenerator().generate_interaction()\n",
    "\n",
    "trail['action'] = random.choice([donation_event,prospect_interaction])"
   ]
  },
  {
   "cell_type": "code",
   "execution_count": null,
   "metadata": {},
   "outputs": [
    {
     "data": {
      "text/plain": [
       "{'action': {'event_type': 'prospect_interaction',\n",
       "  'prospect_id': 4977,\n",
       "  'interaction_date': '2023-03-25',\n",
       "  'interaction': 'Donor wants to fund a student exchange program.',\n",
       "  'donor_classification': 'VIP',\n",
       "  'urgency': 'requires immediate attention'}}"
      ]
     },
     "execution_count": 3,
     "metadata": {},
     "output_type": "execute_result"
    }
   ],
   "source": [
    "trail"
   ]
  },
  {
   "cell_type": "code",
   "execution_count": 4,
   "metadata": {},
   "outputs": [
    {
     "ename": "TypeError",
     "evalue": "PromptTemplate.format() takes 1 positional argument but 2 were given",
     "output_type": "error",
     "traceback": [
      "\u001b[1;31m---------------------------------------------------------------------------\u001b[0m",
      "\u001b[1;31mTypeError\u001b[0m                                 Traceback (most recent call last)",
      "Cell \u001b[1;32mIn[4], line 8\u001b[0m\n\u001b[0;32m      5\u001b[0m \u001b[39melse\u001b[39;00m:\n\u001b[0;32m      6\u001b[0m     trail[\u001b[39m'\u001b[39m\u001b[39mrecommendation\u001b[39m\u001b[39m'\u001b[39m] \u001b[39m=\u001b[39m \u001b[39mf\u001b[39m\u001b[39m\"\u001b[39m\u001b[39mThe model wants you to prioritize on: \u001b[39m\u001b[39m{\u001b[39;00m\u001b[39m'\u001b[39m\u001b[39m \u001b[39m\u001b[39m'\u001b[39m\u001b[39m.\u001b[39mjoin(donor_engagement\u001b[39m.\u001b[39mrecommendations)\u001b[39m}\u001b[39;00m\u001b[39m\"\u001b[39m\n\u001b[1;32m----> 8\u001b[0m trail[\u001b[39m'\u001b[39m\u001b[39mrecommendation_detail\u001b[39m\u001b[39m'\u001b[39m], trail[\u001b[39m'\u001b[39m\u001b[39mllm_chain\u001b[39m\u001b[39m'\u001b[39m] \u001b[39m=\u001b[39m donor_engagement\u001b[39m.\u001b[39;49mgenerate_llm()\n",
      "File \u001b[1;32mc:\\Users\\gimen\\Downloads\\capstonereboot\\capstone_demo\\skynet.py:75\u001b[0m, in \u001b[0;36mDonorEngagement.generate_llm\u001b[1;34m(self)\u001b[0m\n\u001b[0;32m     71\u001b[0m     prompt_params \u001b[39m=\u001b[39m {\u001b[39m'\u001b[39m\u001b[39minteraction\u001b[39m\u001b[39m'\u001b[39m: interaction, \u001b[39m'\u001b[39m\u001b[39murgency\u001b[39m\u001b[39m'\u001b[39m: urgency, \u001b[39m'\u001b[39m\u001b[39mdonor_classification\u001b[39m\u001b[39m'\u001b[39m: donor_classification}\n\u001b[0;32m     73\u001b[0m trail[\u001b[39m'\u001b[39m\u001b[39mprompt_chain_1\u001b[39m\u001b[39m'\u001b[39m] \u001b[39m=\u001b[39m prompt\n\u001b[1;32m---> 75\u001b[0m p1 \u001b[39m=\u001b[39m prompt\u001b[39m.\u001b[39;49mformat(prompt_params)\n\u001b[0;32m     76\u001b[0m recommendation \u001b[39m=\u001b[39m llm(p1)\n\u001b[0;32m     78\u001b[0m trail[\u001b[39m'\u001b[39m\u001b[39mprompt_chain_1_response\u001b[39m\u001b[39m'\u001b[39m] \u001b[39m=\u001b[39m p1\n",
      "\u001b[1;31mTypeError\u001b[0m: PromptTemplate.format() takes 1 positional argument but 2 were given"
     ]
    }
   ],
   "source": [
    "donor_engagement = DonorEngagement(trail['action'])\n",
    "\n",
    "if trail['action'].get('event_type') == 'prospect_interaction':\n",
    "    trail['recommendation'] = f\"{trail['action'].get('interaction')}\"\n",
    "else:\n",
    "    trail['recommendation'] = f\"The model wants you to prioritize on: {' '.join(donor_engagement.recommendations)}\"\n",
    "\n",
    "trail['recommendation_detail'], trail['llm_chain'] = donor_engagement.generate_llm()"
   ]
  },
  {
   "cell_type": "code",
   "execution_count": 4,
   "metadata": {},
   "outputs": [
    {
     "data": {
      "text/plain": [
       "['1. Stewardship', '2. Recognition']"
      ]
     },
     "execution_count": 4,
     "metadata": {},
     "output_type": "execute_result"
    }
   ],
   "source": [
    "donor_engagement.recommendations"
   ]
  },
  {
   "cell_type": "code",
   "execution_count": 15,
   "metadata": {},
   "outputs": [],
   "source": [
    "dataset_used = FictionalDatasetMetadata()\n",
    "trail['dataset'] = dataset_used.metadata"
   ]
  },
  {
   "cell_type": "code",
   "execution_count": 16,
   "metadata": {},
   "outputs": [
    {
     "data": {
      "text/plain": [
       "{'donation_event': {'donor_id': 8469,\n",
       "  'donation_purpose': 'Infrastructure Upgrade Fund',\n",
       "  'description': 'Funding for campus facilities and infrastructure maintenance and upgrades.',\n",
       "  'amount': 1984784.66,\n",
       "  'gift_category': 'principal_gift'},\n",
       " 'recommendation': 'The model wants you to prioritize: 1. Stewardship2. Recognition',\n",
       " 'recommendation_detail': '\\n\\nDear Donor #8469,\\n\\nThank you for your generous gift of $1,984,784.66 to our Infrastructure Upgrade Fund. Your support is greatly appreciated and will go a long way in helping us to maintain and upgrade our campus facilities and infrastructure.\\n\\nWe take great care in stewarding our donor gifts and ensuring they are used effectively and efficiently. We will ensure that this gift is used in the manner you intended when you made this generous donation.\\n\\nWe also recognize your commitment to our organization and your generosity. We will make sure to recognize your gift in our upcoming newsletter, on our website, and through social media.\\n\\nAgain, thank you for your generosity. We are extremely grateful for your support.\\n\\nSincerely, \\nThe Team at XYZ Organization',\n",
       " 'llm_chain': {'request_time': '2023-05-07 18:58:14',\n",
       "  'llm_metadata': {'llm_model_name': 'text-davinci-003',\n",
       "   'llm_temperature': 0.9,\n",
       "   'llm_max_tokens': 256,\n",
       "   'llm_top_p': 1,\n",
       "   'llm_frequency_penalty': 0,\n",
       "   'llm_best_of': 1,\n",
       "   'llm_batch_size': 20},\n",
       "  'prompt_chain_1': PromptTemplate(input_variables=['task', 'donor_payload'], output_parser=None, template='given the following tasks and additional context, write a personalized communication to donor to accomplish it:\\n        input task: {task},\\n        input context: {donor_payload}\\n        ', template_format='f-string', validate_template=True),\n",
       "  'prompt_chain_1_response': \"given the following tasks and additional context, write a personalized communication to donor to accomplish it:\\n        input task: ['1. Stewardship', '2. Recognition'],\\n        input context: {'donor_id': 8469, 'donation_purpose': 'Infrastructure Upgrade Fund', 'description': 'Funding for campus facilities and infrastructure maintenance and upgrades.', 'amount': 1984784.66, 'gift_category': 'principal_gift'}\\n        \"},\n",
       " 'dataset': {'dataset_name': 'info3967',\n",
       "  'is_privileged': 'no',\n",
       "  'is_biased': 'biased',\n",
       "  'num_records': 5868,\n",
       "  'avg_record_size': 2982,\n",
       "  'num_columns': 19,\n",
       "  'num_missing_values': 331,\n",
       "  'data_format': 'Parquet',\n",
       "  'data_source': 'survey',\n",
       "  'data_storage': 'local',\n",
       "  'data_domain': 'health',\n",
       "  'reason_for_bias': 'Confounding variables not considered'}}"
      ]
     },
     "execution_count": 16,
     "metadata": {},
     "output_type": "execute_result"
    }
   ],
   "source": [
    "trail"
   ]
  },
  {
   "cell_type": "code",
   "execution_count": 18,
   "metadata": {},
   "outputs": [],
   "source": [
    "trail['model'] = ModelTrainingMetadata().metadata"
   ]
  },
  {
   "cell_type": "code",
   "execution_count": 19,
   "metadata": {},
   "outputs": [
    {
     "data": {
      "text/plain": [
       "{'donation_event': {'donor_id': 8469,\n",
       "  'donation_purpose': 'Infrastructure Upgrade Fund',\n",
       "  'description': 'Funding for campus facilities and infrastructure maintenance and upgrades.',\n",
       "  'amount': 1984784.66,\n",
       "  'gift_category': 'principal_gift'},\n",
       " 'recommendation': 'The model wants you to prioritize: 1. Stewardship2. Recognition',\n",
       " 'recommendation_detail': '\\n\\nDear Donor #8469,\\n\\nThank you for your generous gift of $1,984,784.66 to our Infrastructure Upgrade Fund. Your support is greatly appreciated and will go a long way in helping us to maintain and upgrade our campus facilities and infrastructure.\\n\\nWe take great care in stewarding our donor gifts and ensuring they are used effectively and efficiently. We will ensure that this gift is used in the manner you intended when you made this generous donation.\\n\\nWe also recognize your commitment to our organization and your generosity. We will make sure to recognize your gift in our upcoming newsletter, on our website, and through social media.\\n\\nAgain, thank you for your generosity. We are extremely grateful for your support.\\n\\nSincerely, \\nThe Team at XYZ Organization',\n",
       " 'llm_chain': {'request_time': '2023-05-07 18:58:14',\n",
       "  'llm_metadata': {'llm_model_name': 'text-davinci-003',\n",
       "   'llm_temperature': 0.9,\n",
       "   'llm_max_tokens': 256,\n",
       "   'llm_top_p': 1,\n",
       "   'llm_frequency_penalty': 0,\n",
       "   'llm_best_of': 1,\n",
       "   'llm_batch_size': 20},\n",
       "  'prompt_chain_1': PromptTemplate(input_variables=['task', 'donor_payload'], output_parser=None, template='given the following tasks and additional context, write a personalized communication to donor to accomplish it:\\n        input task: {task},\\n        input context: {donor_payload}\\n        ', template_format='f-string', validate_template=True),\n",
       "  'prompt_chain_1_response': \"given the following tasks and additional context, write a personalized communication to donor to accomplish it:\\n        input task: ['1. Stewardship', '2. Recognition'],\\n        input context: {'donor_id': 8469, 'donation_purpose': 'Infrastructure Upgrade Fund', 'description': 'Funding for campus facilities and infrastructure maintenance and upgrades.', 'amount': 1984784.66, 'gift_category': 'principal_gift'}\\n        \"},\n",
       " 'dataset': {'dataset_name': 'info3967',\n",
       "  'is_privileged': 'no',\n",
       "  'is_biased': 'biased',\n",
       "  'num_records': 5868,\n",
       "  'avg_record_size': 2982,\n",
       "  'num_columns': 19,\n",
       "  'num_missing_values': 331,\n",
       "  'data_format': 'Parquet',\n",
       "  'data_source': 'survey',\n",
       "  'data_storage': 'local',\n",
       "  'data_domain': 'health',\n",
       "  'reason_for_bias': 'Confounding variables not considered'},\n",
       " 'model': {'model_name': 'Neural Network',\n",
       "  'model_training_data': 'records5649',\n",
       "  'learning_rate': 0.0326,\n",
       "  'batch_size': 32,\n",
       "  'num_epochs': 103,\n",
       "  'optimizer': 'SGD',\n",
       "  'loss_function': 'BCELoss',\n",
       "  'activation_function': 'LeakyReLU',\n",
       "  'regularization': 'ElasticNet',\n",
       "  'dropout_rate': 0.02315863469363333,\n",
       "  'accuracy': 0.9791,\n",
       "  'f1_score': 0.7387,\n",
       "  'precision': 0.7297,\n",
       "  'recall': 0.6238,\n",
       "  'auc_roc': 0.8124,\n",
       "  'training_time': 7.4,\n",
       "  'training_cost': 875.02}}"
      ]
     },
     "execution_count": 19,
     "metadata": {},
     "output_type": "execute_result"
    }
   ],
   "source": [
    "trail"
   ]
  },
  {
   "cell_type": "code",
   "execution_count": 6,
   "metadata": {},
   "outputs": [
    {
     "data": {
      "text/plain": [
       "{'donor_id': 4856,\n",
       " 'interaction_date': '2022-07-07',\n",
       " 'interaction': \"Donor wants to contribute to the university's capital campaign.\",\n",
       " 'donor_classification': 'recently_engaged_prospect',\n",
       " 'urgency': 'should be addressed soon'}"
      ]
     },
     "execution_count": 6,
     "metadata": {},
     "output_type": "execute_result"
    }
   ],
   "source": []
  },
  {
   "cell_type": "code",
   "execution_count": null,
   "metadata": {},
   "outputs": [],
   "source": []
  }
 ],
 "metadata": {
  "kernelspec": {
   "display_name": "venv",
   "language": "python",
   "name": "python3"
  },
  "language_info": {
   "codemirror_mode": {
    "name": "ipython",
    "version": 3
   },
   "file_extension": ".py",
   "mimetype": "text/x-python",
   "name": "python",
   "nbconvert_exporter": "python",
   "pygments_lexer": "ipython3",
   "version": "3.11.1"
  },
  "orig_nbformat": 4
 },
 "nbformat": 4,
 "nbformat_minor": 2
}
